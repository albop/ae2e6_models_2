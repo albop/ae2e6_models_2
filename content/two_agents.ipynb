{
 "cells": [
  {
   "cell_type": "code",
   "execution_count": null,
   "metadata": {},
   "outputs": [],
   "source": [
    "from dyno.gui.dynare import dyno_gui\n",
    "Page = dyno_gui(\"two_agents_mps.mod\", parchoice={'rho_z':[1.0, 0.95, 1.0]})\n",
    "Page"
   ]
  }
 ],
 "metadata": {
  "kernelspec": {
   "display_name": "Python 3",
   "language": "python",
   "name": "python3"
  },
  "language_info": {
   "name": "python",
   "version": "3.11.6"
  }
 },
 "nbformat": 4,
 "nbformat_minor": 2
}
